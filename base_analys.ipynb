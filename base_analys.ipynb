{
 "cells": [
  {
   "cell_type": "markdown",
   "id": "6986329c",
   "metadata": {},
   "source": [
    "# chess opening analys"
   ]
  },
  {
   "cell_type": "markdown",
   "id": "89f087c1",
   "metadata": {},
   "source": [
    "## get data from exel file"
   ]
  },
  {
   "cell_type": "code",
   "execution_count": 10,
   "id": "f80e4c7c",
   "metadata": {},
   "outputs": [
    {
     "data": {
      "text/html": [
       "<div>\n",
       "<style scoped>\n",
       "    .dataframe tbody tr th:only-of-type {\n",
       "        vertical-align: middle;\n",
       "    }\n",
       "\n",
       "    .dataframe tbody tr th {\n",
       "        vertical-align: top;\n",
       "    }\n",
       "\n",
       "    .dataframe thead th {\n",
       "        text-align: right;\n",
       "    }\n",
       "</style>\n",
       "<table border=\"1\" class=\"dataframe\">\n",
       "  <thead>\n",
       "    <tr style=\"text-align: right;\">\n",
       "      <th></th>\n",
       "      <th>id</th>\n",
       "      <th>rated</th>\n",
       "      <th>created_at</th>\n",
       "      <th>last_move_at</th>\n",
       "      <th>turns</th>\n",
       "      <th>victory_status</th>\n",
       "      <th>winner</th>\n",
       "      <th>increment_code</th>\n",
       "      <th>white_id</th>\n",
       "      <th>white_rating</th>\n",
       "      <th>black_id</th>\n",
       "      <th>black_rating</th>\n",
       "      <th>moves</th>\n",
       "      <th>opening_eco</th>\n",
       "      <th>opening_name</th>\n",
       "      <th>opening_ply</th>\n",
       "    </tr>\n",
       "  </thead>\n",
       "  <tbody>\n",
       "    <tr>\n",
       "      <th>0</th>\n",
       "      <td>TZJHLljE</td>\n",
       "      <td>False</td>\n",
       "      <td>1500000000000</td>\n",
       "      <td>1500000000000</td>\n",
       "      <td>13</td>\n",
       "      <td>outoftime</td>\n",
       "      <td>white</td>\n",
       "      <td>15+2</td>\n",
       "      <td>bourgris</td>\n",
       "      <td>1500</td>\n",
       "      <td>a-00</td>\n",
       "      <td>1191</td>\n",
       "      <td>d4 d5 c4 c6 cxd5 e6 dxe6 fxe6 Nf3 Bb4+ Nc3 Ba5...</td>\n",
       "      <td>D10</td>\n",
       "      <td>Slav Defense: Exchange Variation</td>\n",
       "      <td>5</td>\n",
       "    </tr>\n",
       "  </tbody>\n",
       "</table>\n",
       "</div>"
      ],
      "text/plain": [
       "         id  rated     created_at   last_move_at  turns victory_status winner  \\\n",
       "0  TZJHLljE  False  1500000000000  1500000000000     13      outoftime  white   \n",
       "\n",
       "  increment_code  white_id  white_rating black_id  black_rating  \\\n",
       "0           15+2  bourgris          1500     a-00          1191   \n",
       "\n",
       "                                               moves opening_eco  \\\n",
       "0  d4 d5 c4 c6 cxd5 e6 dxe6 fxe6 Nf3 Bb4+ Nc3 Ba5...         D10   \n",
       "\n",
       "                       opening_name  opening_ply  \n",
       "0  Slav Defense: Exchange Variation            5  "
      ]
     },
     "execution_count": 10,
     "metadata": {},
     "output_type": "execute_result"
    }
   ],
   "source": [
    "import pandas as pd\n",
    "\n",
    "df = pd.read_excel('chess_dataset.xlsx')\n",
    "df.head(1)"
   ]
  },
  {
   "cell_type": "markdown",
   "id": "44ec9735",
   "metadata": {},
   "source": [
    "## select the importent columns in df"
   ]
  },
  {
   "cell_type": "code",
   "execution_count": 11,
   "id": "913941da",
   "metadata": {},
   "outputs": [
    {
     "data": {
      "text/html": [
       "<div>\n",
       "<style scoped>\n",
       "    .dataframe tbody tr th:only-of-type {\n",
       "        vertical-align: middle;\n",
       "    }\n",
       "\n",
       "    .dataframe tbody tr th {\n",
       "        vertical-align: top;\n",
       "    }\n",
       "\n",
       "    .dataframe thead th {\n",
       "        text-align: right;\n",
       "    }\n",
       "</style>\n",
       "<table border=\"1\" class=\"dataframe\">\n",
       "  <thead>\n",
       "    <tr style=\"text-align: right;\">\n",
       "      <th></th>\n",
       "      <th>rated</th>\n",
       "      <th>turns</th>\n",
       "      <th>victory_status</th>\n",
       "      <th>winner</th>\n",
       "      <th>increment_code</th>\n",
       "      <th>white_rating</th>\n",
       "      <th>black_rating</th>\n",
       "      <th>opening_name</th>\n",
       "    </tr>\n",
       "  </thead>\n",
       "  <tbody>\n",
       "    <tr>\n",
       "      <th>0</th>\n",
       "      <td>False</td>\n",
       "      <td>13</td>\n",
       "      <td>outoftime</td>\n",
       "      <td>white</td>\n",
       "      <td>15+2</td>\n",
       "      <td>1500</td>\n",
       "      <td>1191</td>\n",
       "      <td>Slav Defense: Exchange Variation</td>\n",
       "    </tr>\n",
       "  </tbody>\n",
       "</table>\n",
       "</div>"
      ],
      "text/plain": [
       "   rated  turns victory_status winner increment_code  white_rating  \\\n",
       "0  False     13      outoftime  white           15+2          1500   \n",
       "\n",
       "   black_rating                      opening_name  \n",
       "0          1191  Slav Defense: Exchange Variation  "
      ]
     },
     "execution_count": 11,
     "metadata": {},
     "output_type": "execute_result"
    }
   ],
   "source": [
    "idf = df[['rated', 'turns', 'victory_status', 'winner', 'increment_code', 'white_rating', 'black_rating', 'opening_name']]\n",
    "idf.head(1)"
   ]
  },
  {
   "cell_type": "markdown",
   "id": "a4066589",
   "metadata": {},
   "source": [
    "## clean idf dataframe"
   ]
  },
  {
   "cell_type": "markdown",
   "id": "c75087c8",
   "metadata": {},
   "source": [
    "### split opening and wariant"
   ]
  },
  {
   "cell_type": "code",
   "execution_count": 12,
   "id": "667fd351",
   "metadata": {},
   "outputs": [
    {
     "name": "stderr",
     "output_type": "stream",
     "text": [
      "C:\\Users\\Mr_shotgun\\AppData\\Local\\Temp\\ipykernel_11092\\612733503.py:1: SettingWithCopyWarning: \n",
      "A value is trying to be set on a copy of a slice from a DataFrame.\n",
      "Try using .loc[row_indexer,col_indexer] = value instead\n",
      "\n",
      "See the caveats in the documentation: https://pandas.pydata.org/pandas-docs/stable/user_guide/indexing.html#returning-a-view-versus-a-copy\n",
      "  idf['variant'] = idf['opening_name'].str.split(':', expand=True)[1]\n",
      "C:\\Users\\Mr_shotgun\\AppData\\Local\\Temp\\ipykernel_11092\\612733503.py:2: SettingWithCopyWarning: \n",
      "A value is trying to be set on a copy of a slice from a DataFrame.\n",
      "Try using .loc[row_indexer,col_indexer] = value instead\n",
      "\n",
      "See the caveats in the documentation: https://pandas.pydata.org/pandas-docs/stable/user_guide/indexing.html#returning-a-view-versus-a-copy\n",
      "  idf['opening_name'] = idf['opening_name'].str.split(':', expand=True)[0]\n"
     ]
    },
    {
     "data": {
      "text/html": [
       "<div>\n",
       "<style scoped>\n",
       "    .dataframe tbody tr th:only-of-type {\n",
       "        vertical-align: middle;\n",
       "    }\n",
       "\n",
       "    .dataframe tbody tr th {\n",
       "        vertical-align: top;\n",
       "    }\n",
       "\n",
       "    .dataframe thead th {\n",
       "        text-align: right;\n",
       "    }\n",
       "</style>\n",
       "<table border=\"1\" class=\"dataframe\">\n",
       "  <thead>\n",
       "    <tr style=\"text-align: right;\">\n",
       "      <th></th>\n",
       "      <th>rated</th>\n",
       "      <th>turns</th>\n",
       "      <th>victory_status</th>\n",
       "      <th>winner</th>\n",
       "      <th>increment_code</th>\n",
       "      <th>white_rating</th>\n",
       "      <th>black_rating</th>\n",
       "      <th>opening_name</th>\n",
       "      <th>variant</th>\n",
       "    </tr>\n",
       "  </thead>\n",
       "  <tbody>\n",
       "    <tr>\n",
       "      <th>0</th>\n",
       "      <td>False</td>\n",
       "      <td>13</td>\n",
       "      <td>outoftime</td>\n",
       "      <td>white</td>\n",
       "      <td>15+2</td>\n",
       "      <td>1500</td>\n",
       "      <td>1191</td>\n",
       "      <td>Slav Defense</td>\n",
       "      <td>Exchange Variation</td>\n",
       "    </tr>\n",
       "  </tbody>\n",
       "</table>\n",
       "</div>"
      ],
      "text/plain": [
       "   rated  turns victory_status winner increment_code  white_rating  \\\n",
       "0  False     13      outoftime  white           15+2          1500   \n",
       "\n",
       "   black_rating  opening_name              variant  \n",
       "0          1191  Slav Defense   Exchange Variation  "
      ]
     },
     "execution_count": 12,
     "metadata": {},
     "output_type": "execute_result"
    }
   ],
   "source": [
    "idf['variant'] = idf['opening_name'].str.split(':', expand=True)[1]\n",
    "idf['opening_name'] = idf['opening_name'].str.split(':', expand=True)[0]\n",
    "idf.head(1)"
   ]
  },
  {
   "cell_type": "markdown",
   "id": "ba22c1f9",
   "metadata": {},
   "source": [
    "### drop null row"
   ]
  },
  {
   "cell_type": "code",
   "execution_count": 13,
   "id": "d9465529",
   "metadata": {},
   "outputs": [
    {
     "data": {
      "text/plain": [
       "rated                0\n",
       "turns                0\n",
       "victory_status       0\n",
       "winner               0\n",
       "increment_code       0\n",
       "white_rating         0\n",
       "black_rating         0\n",
       "opening_name         0\n",
       "variant           6928\n",
       "dtype: int64"
      ]
     },
     "execution_count": 13,
     "metadata": {},
     "output_type": "execute_result"
    }
   ],
   "source": [
    "idf.isnull().sum()"
   ]
  },
  {
   "cell_type": "markdown",
   "id": "529be378",
   "metadata": {},
   "source": [
    "> tip: I have no problem with the variant column having a null value."
   ]
  },
  {
   "cell_type": "markdown",
   "id": "01ab1788",
   "metadata": {},
   "source": [
    "### drop rows where the victoryـstatus is in an unacceptable state."
   ]
  },
  {
   "cell_type": "code",
   "execution_count": 14,
   "id": "6095ef9e",
   "metadata": {},
   "outputs": [
    {
     "name": "stdout",
     "output_type": "stream",
     "text": [
      "Number of rows that do not have acceptable victory_status data:  2586\n",
      "idf shape after removing unacceptables:  (17472, 9)\n"
     ]
    },
    {
     "data": {
      "text/html": [
       "<div>\n",
       "<style scoped>\n",
       "    .dataframe tbody tr th:only-of-type {\n",
       "        vertical-align: middle;\n",
       "    }\n",
       "\n",
       "    .dataframe tbody tr th {\n",
       "        vertical-align: top;\n",
       "    }\n",
       "\n",
       "    .dataframe thead th {\n",
       "        text-align: right;\n",
       "    }\n",
       "</style>\n",
       "<table border=\"1\" class=\"dataframe\">\n",
       "  <thead>\n",
       "    <tr style=\"text-align: right;\">\n",
       "      <th></th>\n",
       "      <th>rated</th>\n",
       "      <th>turns</th>\n",
       "      <th>victory_status</th>\n",
       "      <th>winner</th>\n",
       "      <th>increment_code</th>\n",
       "      <th>white_rating</th>\n",
       "      <th>black_rating</th>\n",
       "      <th>opening_name</th>\n",
       "      <th>variant</th>\n",
       "    </tr>\n",
       "  </thead>\n",
       "  <tbody>\n",
       "    <tr>\n",
       "      <th>0</th>\n",
       "      <td>True</td>\n",
       "      <td>16</td>\n",
       "      <td>resign</td>\n",
       "      <td>black</td>\n",
       "      <td>5+10</td>\n",
       "      <td>1322</td>\n",
       "      <td>1261</td>\n",
       "      <td>Nimzowitsch Defense</td>\n",
       "      <td>Kennedy Variation</td>\n",
       "    </tr>\n",
       "    <tr>\n",
       "      <th>1</th>\n",
       "      <td>True</td>\n",
       "      <td>61</td>\n",
       "      <td>mate</td>\n",
       "      <td>white</td>\n",
       "      <td>5+10</td>\n",
       "      <td>1496</td>\n",
       "      <td>1500</td>\n",
       "      <td>King's Pawn Game</td>\n",
       "      <td>Leonardis Variation</td>\n",
       "    </tr>\n",
       "    <tr>\n",
       "      <th>2</th>\n",
       "      <td>True</td>\n",
       "      <td>61</td>\n",
       "      <td>mate</td>\n",
       "      <td>white</td>\n",
       "      <td>20+0</td>\n",
       "      <td>1439</td>\n",
       "      <td>1454</td>\n",
       "      <td>Queen's Pawn Game</td>\n",
       "      <td>Zukertort Variation</td>\n",
       "    </tr>\n",
       "    <tr>\n",
       "      <th>3</th>\n",
       "      <td>True</td>\n",
       "      <td>95</td>\n",
       "      <td>mate</td>\n",
       "      <td>white</td>\n",
       "      <td>30+3</td>\n",
       "      <td>1523</td>\n",
       "      <td>1469</td>\n",
       "      <td>Philidor Defense</td>\n",
       "      <td>None</td>\n",
       "    </tr>\n",
       "    <tr>\n",
       "      <th>4</th>\n",
       "      <td>True</td>\n",
       "      <td>33</td>\n",
       "      <td>resign</td>\n",
       "      <td>white</td>\n",
       "      <td>10+0</td>\n",
       "      <td>1520</td>\n",
       "      <td>1423</td>\n",
       "      <td>Blackmar-Diemer Gambit</td>\n",
       "      <td>Pietrowsky Defense</td>\n",
       "    </tr>\n",
       "  </tbody>\n",
       "</table>\n",
       "</div>"
      ],
      "text/plain": [
       "   rated  turns victory_status winner increment_code  white_rating  \\\n",
       "0   True     16         resign  black           5+10          1322   \n",
       "1   True     61           mate  white           5+10          1496   \n",
       "2   True     61           mate  white           20+0          1439   \n",
       "3   True     95           mate  white           30+3          1523   \n",
       "4   True     33         resign  white           10+0          1520   \n",
       "\n",
       "   black_rating            opening_name               variant  \n",
       "0          1261     Nimzowitsch Defense     Kennedy Variation  \n",
       "1          1500        King's Pawn Game   Leonardis Variation  \n",
       "2          1454       Queen's Pawn Game   Zukertort Variation  \n",
       "3          1469        Philidor Defense                  None  \n",
       "4          1423  Blackmar-Diemer Gambit    Pietrowsky Defense  "
      ]
     },
     "execution_count": 14,
     "metadata": {},
     "output_type": "execute_result"
    }
   ],
   "source": [
    "unacceptable_in_victory_status = len(idf[idf['victory_status'].isin(['outoftime', 'draw'])])\n",
    "print(\"Number of rows that do not have acceptable victory_status data: \", unacceptable_in_victory_status)\n",
    "idf = idf[~idf['victory_status'].isin(['outoftime', 'draw'])]\n",
    "print(\"idf shape after removing unacceptables: \", idf.shape)\n",
    "idf = idf.reset_index(drop=True)\n",
    "idf.head()"
   ]
  },
  {
   "cell_type": "markdown",
   "id": "83df1a68",
   "metadata": {},
   "source": [
    "## targeted data: \n",
    "- Total number of openings\n",
    "- Number of games available in each opening\n",
    "- The best opening for white and black in the top ten openings\n",
    "- The best opening for White in the three rating categories\n",
    "- The best opening for black in the three rating categories"
   ]
  },
  {
   "cell_type": "markdown",
   "id": "ae8e0af5",
   "metadata": {},
   "source": [
    "### total number of openings:"
   ]
  },
  {
   "cell_type": "code",
   "execution_count": 31,
   "id": "27c2963b",
   "metadata": {},
   "outputs": [
    {
     "name": "stdout",
     "output_type": "stream",
     "text": [
      "total number of openings: 224\n"
     ]
    }
   ],
   "source": [
    "print(\"total number of openings:\",idf['opening_name'].nunique())"
   ]
  },
  {
   "cell_type": "markdown",
   "id": "c9fcb3c0",
   "metadata": {},
   "source": [
    "### number of games available in each opening:"
   ]
  },
  {
   "cell_type": "code",
   "execution_count": null,
   "id": "612c7390",
   "metadata": {},
   "outputs": [
    {
     "name": "stdout",
     "output_type": "stream",
     "text": [
      "number of game in each opening: opening_name\n",
      "Sicilian Defense                                                2230\n",
      "French Defense                                                  1144\n",
      "Queen's Pawn Game                                                928\n",
      "Italian Game                                                     861\n",
      "King's Pawn Game                                                 797\n",
      "                                                                ... \n",
      "King's Gambit Accepted |  Bishop's Gambit |  Maurian Defense       1\n",
      "King's Gambit |  Falkbeer Countergambit |  Hinrichsen Gambit       1\n",
      "King's Gambit Accepted |  Ghulam-Kassim Gambit                     1\n",
      "Barnes Opening                                                     1\n",
      "King's Gambit |  Falkbeer Countergambit |  Miles Gambit            1\n",
      "Name: count, Length: 224, dtype: int64\n"
     ]
    }
   ],
   "source": [
    "print(\"number of game in each opening:\",idf['opening_name'].value_counts())"
   ]
  },
  {
   "cell_type": "markdown",
   "id": "7917f996",
   "metadata": {},
   "source": [
    "#### plot top ten openings:"
   ]
  },
  {
   "cell_type": "code",
   "execution_count": 64,
   "id": "29d4345e",
   "metadata": {},
   "outputs": [
    {
     "data": {
      "image/png": "[encoded data removed]",
      "text/plain": [
       "<Figure size 640x480 with 1 Axes>"
      ]
     },
     "metadata": {},
     "output_type": "display_data"
    }
   ],
   "source": [
    "import matplotlib.pyplot as plt\n",
    "most_played = idf['opening_name'].value_counts().head(10).to_dict()\n",
    "openings = list(most_played.keys())\n",
    "count_openings = list(most_played.values())\n",
    "\n",
    "fig, ax = plt.subplots()\n",
    "\n",
    "ax.barh(openings, count_openings, align='center')\n",
    "\n",
    "plt.show()"
   ]
  },
  {
   "cell_type": "markdown",
   "id": "1e2890b7",
   "metadata": {},
   "source": [
    "### The best opening for white and black in the top ten openings: "
   ]
  },
  {
   "cell_type": "markdown",
   "id": "47b0baee",
   "metadata": {},
   "source": [
    "#### In the first step, create a data frame with the same number of games in each opening."
   ]
  },
  {
   "cell_type": "code",
   "execution_count": null,
   "id": "ec5a919f",
   "metadata": {},
   "outputs": [],
   "source": [
    "# creating valid data frame\n",
    "valid_opening = list(idf['opening_name'].value_counts().head(10).keys())\n",
    "valid_opening_df = idf[idf['opening_name'].isin(valid_opening)].reset_index(drop=True)\n",
    "\n",
    "# find min game in one opening\n",
    "min_opening_count = valid_opening_df['opening_name'].value_counts().min()\n",
    "\n",
    "# creating a data frame where all openings are found at the same rate\n",
    "equality_df = valid_opening_df.apply(lambda x: x.sample(n=min_opening_count, random_state=42))\n",
    "# این دیتا فریم الان همه اپنینگ های مناسب رو داره ولی خب تعداد نابرابری دارن\n"
   ]
  },
  {
   "cell_type": "markdown",
   "id": "7c6efd7d",
   "metadata": {},
   "source": [
    "#### And now finding the best opening for white and black:"
   ]
  },
  {
   "cell_type": "code",
   "execution_count": 105,
   "id": "047c8d14",
   "metadata": {},
   "outputs": [
    {
     "data": {
      "text/html": [
       "<div>\n",
       "<style scoped>\n",
       "    .dataframe tbody tr th:only-of-type {\n",
       "        vertical-align: middle;\n",
       "    }\n",
       "\n",
       "    .dataframe tbody tr th {\n",
       "        vertical-align: top;\n",
       "    }\n",
       "\n",
       "    .dataframe thead th {\n",
       "        text-align: right;\n",
       "    }\n",
       "</style>\n",
       "<table border=\"1\" class=\"dataframe\">\n",
       "  <thead>\n",
       "    <tr style=\"text-align: right;\">\n",
       "      <th></th>\n",
       "      <th>rated</th>\n",
       "      <th>turns</th>\n",
       "      <th>victory_status</th>\n",
       "      <th>winner</th>\n",
       "      <th>increment_code</th>\n",
       "      <th>white_rating</th>\n",
       "      <th>black_rating</th>\n",
       "      <th>opening_name</th>\n",
       "      <th>variant</th>\n",
       "    </tr>\n",
       "  </thead>\n",
       "  <tbody>\n",
       "    <tr>\n",
       "      <th>0</th>\n",
       "      <td>True</td>\n",
       "      <td>65</td>\n",
       "      <td>resign</td>\n",
       "      <td>white</td>\n",
       "      <td>8+2</td>\n",
       "      <td>1909</td>\n",
       "      <td>1406</td>\n",
       "      <td>Queen's Pawn Game</td>\n",
       "      <td>Chigorin Variation</td>\n",
       "    </tr>\n",
       "    <tr>\n",
       "      <th>1</th>\n",
       "      <td>True</td>\n",
       "      <td>60</td>\n",
       "      <td>resign</td>\n",
       "      <td>black</td>\n",
       "      <td>20+0</td>\n",
       "      <td>1126</td>\n",
       "      <td>1483</td>\n",
       "      <td>French Defense</td>\n",
       "      <td>Queen's Knight</td>\n",
       "    </tr>\n",
       "    <tr>\n",
       "      <th>2</th>\n",
       "      <td>True</td>\n",
       "      <td>27</td>\n",
       "      <td>resign</td>\n",
       "      <td>white</td>\n",
       "      <td>15+2</td>\n",
       "      <td>1334</td>\n",
       "      <td>1443</td>\n",
       "      <td>English Opening</td>\n",
       "      <td>The Whale</td>\n",
       "    </tr>\n",
       "    <tr>\n",
       "      <th>3</th>\n",
       "      <td>True</td>\n",
       "      <td>17</td>\n",
       "      <td>resign</td>\n",
       "      <td>white</td>\n",
       "      <td>10+0</td>\n",
       "      <td>1467</td>\n",
       "      <td>1372</td>\n",
       "      <td>Ruy Lopez</td>\n",
       "      <td>Classical Variation</td>\n",
       "    </tr>\n",
       "    <tr>\n",
       "      <th>4</th>\n",
       "      <td>True</td>\n",
       "      <td>51</td>\n",
       "      <td>resign</td>\n",
       "      <td>white</td>\n",
       "      <td>20+0</td>\n",
       "      <td>1305</td>\n",
       "      <td>1671</td>\n",
       "      <td>Sicilian Defense</td>\n",
       "      <td>Smith-Morra Gambit #2</td>\n",
       "    </tr>\n",
       "    <tr>\n",
       "      <th>...</th>\n",
       "      <td>...</td>\n",
       "      <td>...</td>\n",
       "      <td>...</td>\n",
       "      <td>...</td>\n",
       "      <td>...</td>\n",
       "      <td>...</td>\n",
       "      <td>...</td>\n",
       "      <td>...</td>\n",
       "      <td>...</td>\n",
       "    </tr>\n",
       "    <tr>\n",
       "      <th>416</th>\n",
       "      <td>True</td>\n",
       "      <td>81</td>\n",
       "      <td>resign</td>\n",
       "      <td>white</td>\n",
       "      <td>10+0</td>\n",
       "      <td>2090</td>\n",
       "      <td>2236</td>\n",
       "      <td>Scandinavian Defense</td>\n",
       "      <td>Main Line</td>\n",
       "    </tr>\n",
       "    <tr>\n",
       "      <th>417</th>\n",
       "      <td>True</td>\n",
       "      <td>49</td>\n",
       "      <td>resign</td>\n",
       "      <td>white</td>\n",
       "      <td>10+0</td>\n",
       "      <td>1783</td>\n",
       "      <td>1364</td>\n",
       "      <td>Italian Game</td>\n",
       "      <td>Two Knights Defense |  Knight Attack |  Norma...</td>\n",
       "    </tr>\n",
       "    <tr>\n",
       "      <th>418</th>\n",
       "      <td>True</td>\n",
       "      <td>44</td>\n",
       "      <td>mate</td>\n",
       "      <td>black</td>\n",
       "      <td>8+0</td>\n",
       "      <td>1331</td>\n",
       "      <td>1341</td>\n",
       "      <td>Scandinavian Defense</td>\n",
       "      <td>None</td>\n",
       "    </tr>\n",
       "    <tr>\n",
       "      <th>419</th>\n",
       "      <td>True</td>\n",
       "      <td>52</td>\n",
       "      <td>mate</td>\n",
       "      <td>black</td>\n",
       "      <td>10+0</td>\n",
       "      <td>1175</td>\n",
       "      <td>1270</td>\n",
       "      <td>Queen's Pawn Game</td>\n",
       "      <td>Chigorin Variation</td>\n",
       "    </tr>\n",
       "    <tr>\n",
       "      <th>420</th>\n",
       "      <td>False</td>\n",
       "      <td>67</td>\n",
       "      <td>resign</td>\n",
       "      <td>white</td>\n",
       "      <td>30+0</td>\n",
       "      <td>1592</td>\n",
       "      <td>1500</td>\n",
       "      <td>Scandinavian Defense</td>\n",
       "      <td>Mieses-Kotroc Variation</td>\n",
       "    </tr>\n",
       "  </tbody>\n",
       "</table>\n",
       "<p>421 rows × 9 columns</p>\n",
       "</div>"
      ],
      "text/plain": [
       "     rated  turns victory_status winner increment_code  white_rating  \\\n",
       "0     True     65         resign  white            8+2          1909   \n",
       "1     True     60         resign  black           20+0          1126   \n",
       "2     True     27         resign  white           15+2          1334   \n",
       "3     True     17         resign  white           10+0          1467   \n",
       "4     True     51         resign  white           20+0          1305   \n",
       "..     ...    ...            ...    ...            ...           ...   \n",
       "416   True     81         resign  white           10+0          2090   \n",
       "417   True     49         resign  white           10+0          1783   \n",
       "418   True     44           mate  black            8+0          1331   \n",
       "419   True     52           mate  black           10+0          1175   \n",
       "420  False     67         resign  white           30+0          1592   \n",
       "\n",
       "     black_rating          opening_name  \\\n",
       "0            1406     Queen's Pawn Game   \n",
       "1            1483        French Defense   \n",
       "2            1443       English Opening   \n",
       "3            1372             Ruy Lopez   \n",
       "4            1671      Sicilian Defense   \n",
       "..            ...                   ...   \n",
       "416          2236  Scandinavian Defense   \n",
       "417          1364          Italian Game   \n",
       "418          1341  Scandinavian Defense   \n",
       "419          1270     Queen's Pawn Game   \n",
       "420          1500  Scandinavian Defense   \n",
       "\n",
       "                                               variant  \n",
       "0                                   Chigorin Variation  \n",
       "1                                       Queen's Knight  \n",
       "2                                            The Whale  \n",
       "3                                  Classical Variation  \n",
       "4                                Smith-Morra Gambit #2  \n",
       "..                                                 ...  \n",
       "416                                          Main Line  \n",
       "417   Two Knights Defense |  Knight Attack |  Norma...  \n",
       "418                                               None  \n",
       "419                                 Chigorin Variation  \n",
       "420                            Mieses-Kotroc Variation  \n",
       "\n",
       "[421 rows x 9 columns]"
      ]
     },
     "execution_count": 105,
     "metadata": {},
     "output_type": "execute_result"
    }
   ],
   "source": [
    "equality_df.reset_index(drop=True)"
   ]
  }
 ],
 "metadata": {
  "kernelspec": {
   "display_name": "Python 3",
   "language": "python",
   "name": "python3"
  },
  "language_info": {
   "codemirror_mode": {
    "name": "ipython",
    "version": 3
   },
   "file_extension": ".py",
   "mimetype": "text/x-python",
   "name": "python",
   "nbconvert_exporter": "python",
   "pygments_lexer": "ipython3",
   "version": "3.12.6"
  }
 },
 "nbformat": 4,
 "nbformat_minor": 5
}
