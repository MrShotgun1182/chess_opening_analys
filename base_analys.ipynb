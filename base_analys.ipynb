{
 "cells": [
  {
   "cell_type": "markdown",
   "id": "6986329c",
   "metadata": {},
   "source": [
    "# chess opening analys"
   ]
  },
  {
   "cell_type": "markdown",
   "id": "dcb8cca9",
   "metadata": {},
   "source": [
    "## import library we need in this analys"
   ]
  },
  {
   "cell_type": "code",
   "execution_count": 52,
   "id": "94dd07d4",
   "metadata": {},
   "outputs": [],
   "source": [
    "import pandas as pd\n",
    "import numpy as np\n",
    "import matplotlib.pyplot as plt"
   ]
  },
  {
   "cell_type": "markdown",
   "id": "89f087c1",
   "metadata": {},
   "source": [
    "## get data from exel file"
   ]
  },
  {
   "cell_type": "code",
   "execution_count": null,
   "id": "f80e4c7c",
   "metadata": {},
   "outputs": [
    {
     "data": {
      "text/html": [
       "<div>\n",
       "<style scoped>\n",
       "    .dataframe tbody tr th:only-of-type {\n",
       "        vertical-align: middle;\n",
       "    }\n",
       "\n",
       "    .dataframe tbody tr th {\n",
       "        vertical-align: top;\n",
       "    }\n",
       "\n",
       "    .dataframe thead th {\n",
       "        text-align: right;\n",
       "    }\n",
       "</style>\n",
       "<table border=\"1\" class=\"dataframe\">\n",
       "  <thead>\n",
       "    <tr style=\"text-align: right;\">\n",
       "      <th></th>\n",
       "      <th>id</th>\n",
       "      <th>rated</th>\n",
       "      <th>created_at</th>\n",
       "      <th>last_move_at</th>\n",
       "      <th>turns</th>\n",
       "      <th>victory_status</th>\n",
       "      <th>winner</th>\n",
       "      <th>increment_code</th>\n",
       "      <th>white_id</th>\n",
       "      <th>white_rating</th>\n",
       "      <th>black_id</th>\n",
       "      <th>black_rating</th>\n",
       "      <th>moves</th>\n",
       "      <th>opening_eco</th>\n",
       "      <th>opening_name</th>\n",
       "      <th>opening_ply</th>\n",
       "    </tr>\n",
       "  </thead>\n",
       "  <tbody>\n",
       "    <tr>\n",
       "      <th>0</th>\n",
       "      <td>TZJHLljE</td>\n",
       "      <td>False</td>\n",
       "      <td>1500000000000</td>\n",
       "      <td>1500000000000</td>\n",
       "      <td>13</td>\n",
       "      <td>outoftime</td>\n",
       "      <td>white</td>\n",
       "      <td>15+2</td>\n",
       "      <td>bourgris</td>\n",
       "      <td>1500</td>\n",
       "      <td>a-00</td>\n",
       "      <td>1191</td>\n",
       "      <td>d4 d5 c4 c6 cxd5 e6 dxe6 fxe6 Nf3 Bb4+ Nc3 Ba5...</td>\n",
       "      <td>D10</td>\n",
       "      <td>Slav Defense: Exchange Variation</td>\n",
       "      <td>5</td>\n",
       "    </tr>\n",
       "  </tbody>\n",
       "</table>\n",
       "</div>"
      ],
      "text/plain": [
       "         id  rated     created_at   last_move_at  turns victory_status winner  \\\n",
       "0  TZJHLljE  False  1500000000000  1500000000000     13      outoftime  white   \n",
       "\n",
       "  increment_code  white_id  white_rating black_id  black_rating  \\\n",
       "0           15+2  bourgris          1500     a-00          1191   \n",
       "\n",
       "                                               moves opening_eco  \\\n",
       "0  d4 d5 c4 c6 cxd5 e6 dxe6 fxe6 Nf3 Bb4+ Nc3 Ba5...         D10   \n",
       "\n",
       "                       opening_name  opening_ply  \n",
       "0  Slav Defense: Exchange Variation            5  "
      ]
     },
     "execution_count": 2,
     "metadata": {},
     "output_type": "execute_result"
    }
   ],
   "source": [
    "df = pd.read_excel('chess_dataset.xlsx')\n",
    "df.head(1)"
   ]
  },
  {
   "cell_type": "markdown",
   "id": "44ec9735",
   "metadata": {},
   "source": [
    "## select the importent columns in df"
   ]
  },
  {
   "cell_type": "code",
   "execution_count": 3,
   "id": "913941da",
   "metadata": {},
   "outputs": [
    {
     "data": {
      "text/html": [
       "<div>\n",
       "<style scoped>\n",
       "    .dataframe tbody tr th:only-of-type {\n",
       "        vertical-align: middle;\n",
       "    }\n",
       "\n",
       "    .dataframe tbody tr th {\n",
       "        vertical-align: top;\n",
       "    }\n",
       "\n",
       "    .dataframe thead th {\n",
       "        text-align: right;\n",
       "    }\n",
       "</style>\n",
       "<table border=\"1\" class=\"dataframe\">\n",
       "  <thead>\n",
       "    <tr style=\"text-align: right;\">\n",
       "      <th></th>\n",
       "      <th>rated</th>\n",
       "      <th>turns</th>\n",
       "      <th>victory_status</th>\n",
       "      <th>winner</th>\n",
       "      <th>increment_code</th>\n",
       "      <th>white_rating</th>\n",
       "      <th>black_rating</th>\n",
       "      <th>opening_name</th>\n",
       "    </tr>\n",
       "  </thead>\n",
       "  <tbody>\n",
       "    <tr>\n",
       "      <th>0</th>\n",
       "      <td>False</td>\n",
       "      <td>13</td>\n",
       "      <td>outoftime</td>\n",
       "      <td>white</td>\n",
       "      <td>15+2</td>\n",
       "      <td>1500</td>\n",
       "      <td>1191</td>\n",
       "      <td>Slav Defense: Exchange Variation</td>\n",
       "    </tr>\n",
       "  </tbody>\n",
       "</table>\n",
       "</div>"
      ],
      "text/plain": [
       "   rated  turns victory_status winner increment_code  white_rating  \\\n",
       "0  False     13      outoftime  white           15+2          1500   \n",
       "\n",
       "   black_rating                      opening_name  \n",
       "0          1191  Slav Defense: Exchange Variation  "
      ]
     },
     "execution_count": 3,
     "metadata": {},
     "output_type": "execute_result"
    }
   ],
   "source": [
    "idf = df[['rated', 'turns', 'victory_status', 'winner', 'increment_code', 'white_rating', 'black_rating', 'opening_name']]\n",
    "idf.head(1)"
   ]
  },
  {
   "cell_type": "markdown",
   "id": "a4066589",
   "metadata": {},
   "source": [
    "## clean idf dataframe"
   ]
  },
  {
   "cell_type": "markdown",
   "id": "c75087c8",
   "metadata": {},
   "source": [
    "### split opening and wariant"
   ]
  },
  {
   "cell_type": "code",
   "execution_count": 4,
   "id": "667fd351",
   "metadata": {},
   "outputs": [
    {
     "name": "stderr",
     "output_type": "stream",
     "text": [
      "C:\\Users\\Mr_shotgun\\AppData\\Local\\Temp\\ipykernel_14468\\612733503.py:1: SettingWithCopyWarning: \n",
      "A value is trying to be set on a copy of a slice from a DataFrame.\n",
      "Try using .loc[row_indexer,col_indexer] = value instead\n",
      "\n",
      "See the caveats in the documentation: https://pandas.pydata.org/pandas-docs/stable/user_guide/indexing.html#returning-a-view-versus-a-copy\n",
      "  idf['variant'] = idf['opening_name'].str.split(':', expand=True)[1]\n",
      "C:\\Users\\Mr_shotgun\\AppData\\Local\\Temp\\ipykernel_14468\\612733503.py:2: SettingWithCopyWarning: \n",
      "A value is trying to be set on a copy of a slice from a DataFrame.\n",
      "Try using .loc[row_indexer,col_indexer] = value instead\n",
      "\n",
      "See the caveats in the documentation: https://pandas.pydata.org/pandas-docs/stable/user_guide/indexing.html#returning-a-view-versus-a-copy\n",
      "  idf['opening_name'] = idf['opening_name'].str.split(':', expand=True)[0]\n"
     ]
    },
    {
     "data": {
      "text/html": [
       "<div>\n",
       "<style scoped>\n",
       "    .dataframe tbody tr th:only-of-type {\n",
       "        vertical-align: middle;\n",
       "    }\n",
       "\n",
       "    .dataframe tbody tr th {\n",
       "        vertical-align: top;\n",
       "    }\n",
       "\n",
       "    .dataframe thead th {\n",
       "        text-align: right;\n",
       "    }\n",
       "</style>\n",
       "<table border=\"1\" class=\"dataframe\">\n",
       "  <thead>\n",
       "    <tr style=\"text-align: right;\">\n",
       "      <th></th>\n",
       "      <th>rated</th>\n",
       "      <th>turns</th>\n",
       "      <th>victory_status</th>\n",
       "      <th>winner</th>\n",
       "      <th>increment_code</th>\n",
       "      <th>white_rating</th>\n",
       "      <th>black_rating</th>\n",
       "      <th>opening_name</th>\n",
       "      <th>variant</th>\n",
       "    </tr>\n",
       "  </thead>\n",
       "  <tbody>\n",
       "    <tr>\n",
       "      <th>0</th>\n",
       "      <td>False</td>\n",
       "      <td>13</td>\n",
       "      <td>outoftime</td>\n",
       "      <td>white</td>\n",
       "      <td>15+2</td>\n",
       "      <td>1500</td>\n",
       "      <td>1191</td>\n",
       "      <td>Slav Defense</td>\n",
       "      <td>Exchange Variation</td>\n",
       "    </tr>\n",
       "  </tbody>\n",
       "</table>\n",
       "</div>"
      ],
      "text/plain": [
       "   rated  turns victory_status winner increment_code  white_rating  \\\n",
       "0  False     13      outoftime  white           15+2          1500   \n",
       "\n",
       "   black_rating  opening_name              variant  \n",
       "0          1191  Slav Defense   Exchange Variation  "
      ]
     },
     "execution_count": 4,
     "metadata": {},
     "output_type": "execute_result"
    }
   ],
   "source": [
    "idf['variant'] = idf['opening_name'].str.split(':', expand=True)[1]\n",
    "idf['opening_name'] = idf['opening_name'].str.split(':', expand=True)[0]\n",
    "idf.head(1)"
   ]
  },
  {
   "cell_type": "markdown",
   "id": "ba22c1f9",
   "metadata": {},
   "source": [
    "### drop null row"
   ]
  },
  {
   "cell_type": "code",
   "execution_count": 5,
   "id": "d9465529",
   "metadata": {},
   "outputs": [
    {
     "data": {
      "text/plain": [
       "rated                0\n",
       "turns                0\n",
       "victory_status       0\n",
       "winner               0\n",
       "increment_code       0\n",
       "white_rating         0\n",
       "black_rating         0\n",
       "opening_name         0\n",
       "variant           6928\n",
       "dtype: int64"
      ]
     },
     "execution_count": 5,
     "metadata": {},
     "output_type": "execute_result"
    }
   ],
   "source": [
    "idf.isnull().sum()"
   ]
  },
  {
   "cell_type": "markdown",
   "id": "529be378",
   "metadata": {},
   "source": [
    "> tip: I have no problem with the variant column having a null value."
   ]
  },
  {
   "cell_type": "markdown",
   "id": "01ab1788",
   "metadata": {},
   "source": [
    "### drop rows where the victoryـstatus is in an unacceptable state."
   ]
  },
  {
   "cell_type": "code",
   "execution_count": 6,
   "id": "6095ef9e",
   "metadata": {},
   "outputs": [
    {
     "name": "stdout",
     "output_type": "stream",
     "text": [
      "Number of rows that do not have acceptable victory_status data:  2586\n",
      "idf shape after removing unacceptables:  (17472, 9)\n"
     ]
    },
    {
     "data": {
      "text/html": [
       "<div>\n",
       "<style scoped>\n",
       "    .dataframe tbody tr th:only-of-type {\n",
       "        vertical-align: middle;\n",
       "    }\n",
       "\n",
       "    .dataframe tbody tr th {\n",
       "        vertical-align: top;\n",
       "    }\n",
       "\n",
       "    .dataframe thead th {\n",
       "        text-align: right;\n",
       "    }\n",
       "</style>\n",
       "<table border=\"1\" class=\"dataframe\">\n",
       "  <thead>\n",
       "    <tr style=\"text-align: right;\">\n",
       "      <th></th>\n",
       "      <th>rated</th>\n",
       "      <th>turns</th>\n",
       "      <th>victory_status</th>\n",
       "      <th>winner</th>\n",
       "      <th>increment_code</th>\n",
       "      <th>white_rating</th>\n",
       "      <th>black_rating</th>\n",
       "      <th>opening_name</th>\n",
       "      <th>variant</th>\n",
       "    </tr>\n",
       "  </thead>\n",
       "  <tbody>\n",
       "    <tr>\n",
       "      <th>0</th>\n",
       "      <td>True</td>\n",
       "      <td>16</td>\n",
       "      <td>resign</td>\n",
       "      <td>black</td>\n",
       "      <td>5+10</td>\n",
       "      <td>1322</td>\n",
       "      <td>1261</td>\n",
       "      <td>Nimzowitsch Defense</td>\n",
       "      <td>Kennedy Variation</td>\n",
       "    </tr>\n",
       "    <tr>\n",
       "      <th>1</th>\n",
       "      <td>True</td>\n",
       "      <td>61</td>\n",
       "      <td>mate</td>\n",
       "      <td>white</td>\n",
       "      <td>5+10</td>\n",
       "      <td>1496</td>\n",
       "      <td>1500</td>\n",
       "      <td>King's Pawn Game</td>\n",
       "      <td>Leonardis Variation</td>\n",
       "    </tr>\n",
       "    <tr>\n",
       "      <th>2</th>\n",
       "      <td>True</td>\n",
       "      <td>61</td>\n",
       "      <td>mate</td>\n",
       "      <td>white</td>\n",
       "      <td>20+0</td>\n",
       "      <td>1439</td>\n",
       "      <td>1454</td>\n",
       "      <td>Queen's Pawn Game</td>\n",
       "      <td>Zukertort Variation</td>\n",
       "    </tr>\n",
       "    <tr>\n",
       "      <th>3</th>\n",
       "      <td>True</td>\n",
       "      <td>95</td>\n",
       "      <td>mate</td>\n",
       "      <td>white</td>\n",
       "      <td>30+3</td>\n",
       "      <td>1523</td>\n",
       "      <td>1469</td>\n",
       "      <td>Philidor Defense</td>\n",
       "      <td>None</td>\n",
       "    </tr>\n",
       "    <tr>\n",
       "      <th>4</th>\n",
       "      <td>True</td>\n",
       "      <td>33</td>\n",
       "      <td>resign</td>\n",
       "      <td>white</td>\n",
       "      <td>10+0</td>\n",
       "      <td>1520</td>\n",
       "      <td>1423</td>\n",
       "      <td>Blackmar-Diemer Gambit</td>\n",
       "      <td>Pietrowsky Defense</td>\n",
       "    </tr>\n",
       "  </tbody>\n",
       "</table>\n",
       "</div>"
      ],
      "text/plain": [
       "   rated  turns victory_status winner increment_code  white_rating  \\\n",
       "0   True     16         resign  black           5+10          1322   \n",
       "1   True     61           mate  white           5+10          1496   \n",
       "2   True     61           mate  white           20+0          1439   \n",
       "3   True     95           mate  white           30+3          1523   \n",
       "4   True     33         resign  white           10+0          1520   \n",
       "\n",
       "   black_rating            opening_name               variant  \n",
       "0          1261     Nimzowitsch Defense     Kennedy Variation  \n",
       "1          1500        King's Pawn Game   Leonardis Variation  \n",
       "2          1454       Queen's Pawn Game   Zukertort Variation  \n",
       "3          1469        Philidor Defense                  None  \n",
       "4          1423  Blackmar-Diemer Gambit    Pietrowsky Defense  "
      ]
     },
     "execution_count": 6,
     "metadata": {},
     "output_type": "execute_result"
    }
   ],
   "source": [
    "unacceptable_in_victory_status = len(idf[idf['victory_status'].isin(['outoftime', 'draw'])])\n",
    "print(\"Number of rows that do not have acceptable victory_status data: \", unacceptable_in_victory_status)\n",
    "idf = idf[~idf['victory_status'].isin(['outoftime', 'draw'])]\n",
    "print(\"idf shape after removing unacceptables: \", idf.shape)\n",
    "idf = idf.reset_index(drop=True)\n",
    "idf.head()"
   ]
  },
  {
   "cell_type": "markdown",
   "id": "83df1a68",
   "metadata": {},
   "source": [
    "## targeted data: \n",
    "- Total number of openings\n",
    "- Number of games available in each opening\n",
    "- The best opening for white and black in the top ten openings\n",
    "- The best opening for White in the three rating categories\n",
    "- The best opening for black in the three rating categories"
   ]
  },
  {
   "cell_type": "markdown",
   "id": "ae8e0af5",
   "metadata": {},
   "source": [
    "### total number of openings:"
   ]
  },
  {
   "cell_type": "code",
   "execution_count": 7,
   "id": "27c2963b",
   "metadata": {},
   "outputs": [
    {
     "name": "stdout",
     "output_type": "stream",
     "text": [
      "total number of openings: 224\n"
     ]
    }
   ],
   "source": [
    "print(\"total number of openings:\",idf['opening_name'].nunique())"
   ]
  },
  {
   "cell_type": "markdown",
   "id": "c9fcb3c0",
   "metadata": {},
   "source": [
    "### number of games available in each opening:"
   ]
  },
  {
   "cell_type": "code",
   "execution_count": 8,
   "id": "612c7390",
   "metadata": {},
   "outputs": [
    {
     "name": "stdout",
     "output_type": "stream",
     "text": [
      "number of game in each opening: opening_name\n",
      "Sicilian Defense                                                2230\n",
      "French Defense                                                  1144\n",
      "Queen's Pawn Game                                                928\n",
      "Italian Game                                                     861\n",
      "King's Pawn Game                                                 797\n",
      "                                                                ... \n",
      "King's Gambit Accepted |  Bishop's Gambit |  Maurian Defense       1\n",
      "King's Gambit |  Falkbeer Countergambit |  Hinrichsen Gambit       1\n",
      "King's Gambit Accepted |  Ghulam-Kassim Gambit                     1\n",
      "Barnes Opening                                                     1\n",
      "King's Gambit |  Falkbeer Countergambit |  Miles Gambit            1\n",
      "Name: count, Length: 224, dtype: int64\n"
     ]
    }
   ],
   "source": [
    "print(\"number of game in each opening:\",idf['opening_name'].value_counts())"
   ]
  },
  {
   "cell_type": "markdown",
   "id": "7917f996",
   "metadata": {},
   "source": [
    "#### plot top ten openings:"
   ]
  },
  {
   "cell_type": "code",
   "execution_count": null,
   "id": "29d4345e",
   "metadata": {},
   "outputs": [
    {
     "data": {
      "image/png": "[encoded data removed]",
      "text/plain": [
       "<Figure size 640x480 with 1 Axes>"
      ]
     },
     "metadata": {},
     "output_type": "display_data"
    }
   ],
   "source": [
    "most_played = idf['opening_name'].value_counts().head(10).to_dict()\n",
    "openings = list(most_played.keys())\n",
    "count_openings = list(most_played.values())\n",
    "\n",
    "fig, ax = plt.subplots()\n",
    "\n",
    "ax.barh(openings, count_openings, align='center')\n",
    "\n",
    "plt.show()"
   ]
  },
  {
   "cell_type": "markdown",
   "id": "1e2890b7",
   "metadata": {},
   "source": [
    "### The best opening for white and black in the top ten openings: "
   ]
  },
  {
   "cell_type": "markdown",
   "id": "47b0baee",
   "metadata": {},
   "source": [
    "#### In the first step, create a data frame with the same number of games in each opening."
   ]
  },
  {
   "cell_type": "code",
   "execution_count": 20,
   "id": "ec5a919f",
   "metadata": {},
   "outputs": [
    {
     "name": "stdout",
     "output_type": "stream",
     "text": [
      "valid opening: \n",
      " Sicilian Defense\n",
      "French Defense\n",
      "Queen's Pawn Game\n",
      "Italian Game\n",
      "King's Pawn Game\n",
      "Ruy Lopez\n",
      "Scandinavian Defense\n",
      "English Opening\n",
      "Caro-Kann Defense\n",
      "Scotch Game\n",
      "************************************************************\n",
      "count game in eche opening:  opening_name\n",
      "Caro-Kann Defense       421\n",
      "English Opening         421\n",
      "French Defense          421\n",
      "Italian Game            421\n",
      "King's Pawn Game        421\n",
      "Queen's Pawn Game       421\n",
      "Ruy Lopez               421\n",
      "Scandinavian Defense    421\n",
      "Scotch Game             421\n",
      "Sicilian Defense        421\n",
      "Name: count, dtype: int64\n"
     ]
    },
    {
     "name": "stderr",
     "output_type": "stream",
     "text": [
      "C:\\Users\\Mr_shotgun\\AppData\\Local\\Temp\\ipykernel_14468\\1441065813.py:9: DeprecationWarning: DataFrameGroupBy.apply operated on the grouping columns. This behavior is deprecated, and in a future version of pandas the grouping columns will be excluded from the operation. Either pass `include_groups=False` to exclude the groupings or explicitly select the grouping columns after groupby to silence this warning.\n",
      "  equal_game_by_opening = valid_opening_df.groupby('opening_name').apply(lambda x: x.sample(n=min_valid_opening_count, random_state=42)).reset_index(drop=True)\n"
     ]
    }
   ],
   "source": [
    "# creating valid data frame\n",
    "valid_opening = list(idf['opening_name'].value_counts().head(10).keys())\n",
    "valid_opening_df = idf[idf['opening_name'].isin(valid_opening)].reset_index(drop=True)\n",
    "\n",
    "# find min game in one opening\n",
    "min_valid_opening_count = valid_opening_df['opening_name'].value_counts().min()\n",
    "\n",
    "# creat a equal game in each opening datafram\n",
    "equal_game_by_opening = valid_opening_df.groupby('opening_name').apply(lambda x: x.sample(n=min_valid_opening_count, random_state=42)).reset_index(drop=True)\n",
    "\n",
    "print(\"valid opening: \\n\", \"\\n\".join(valid_opening) )\n",
    "print(\"***\"*20)\n",
    "print(\"count game in eche opening: \", equal_game_by_opening['opening_name'].value_counts())"
   ]
  },
  {
   "cell_type": "markdown",
   "id": "7c6efd7d",
   "metadata": {},
   "source": [
    "#### And now plot the best opening for white and black:"
   ]
  },
  {
   "cell_type": "code",
   "execution_count": 99,
   "id": "047c8d14",
   "metadata": {},
   "outputs": [
    {
     "data": {
      "image/png": "[encoded data removed]",
      "text/plain": [
       "<Figure size 920x500 with 1 Axes>"
      ]
     },
     "metadata": {},
     "output_type": "display_data"
    }
   ],
   "source": [
    "white_winner_opening = equal_game_by_opening[equal_game_by_opening['winner'] == 'white'].value_counts(\"opening_name\").to_dict()\n",
    "\n",
    "valid_opening = list(white_winner_opening.keys())\n",
    "white_win = list(white_winner_opening.values())\n",
    "black_win = [min_valid_opening_count - x for x in white_win]\n",
    "category_name = ['win white', 'win black']\n",
    "\n",
    "def compare_plot(labels, value_one, value_two, category_name):\n",
    "\n",
    "    category_color = plt.colormaps['Greys'](np.array([0.6, 0.9]))\n",
    "\n",
    "    fig, ax = plt.subplots(figsize=(9.2,5))\n",
    "    ax.invert_yaxis()\n",
    "    ax.xaxis.set_visible(False)\n",
    "    ax.set_xlim(-min_valid_opening_count*(3/4), min_valid_opening_count*(3/4))\n",
    "    bar_height = 0.5\n",
    "\n",
    "    # plot bars\n",
    "    ax.barh(labels, value_one, height=bar_height,\n",
    "            left=[-min_valid_opening_count/2],\n",
    "            label=category_name[0], color=category_color[0])\n",
    "    \n",
    "    ax.barh(labels, value_two, height=0.5,\n",
    "            left=[(-min_valid_opening_count/2) + w for w in white_win],\n",
    "            label=category_name[1], color=category_color[1])\n",
    "    \n",
    "    # add percent\n",
    "    percent_value_one = [round((v1 / (v1 + v2)) * 100 ) for v1, v2 in zip(value_one, value_two)]\n",
    "    percent_value_two = [round((v2 / (v2 + v1)) * 100) for v1, v2 in zip(value_one, value_two)]\n",
    "\n",
    "    for i, label in enumerate(valid_opening):\n",
    "        ax.text((-min_valid_opening_count/2) + value_one[i]/2, y=i+(bar_height/4), s=f\"{percent_value_one[i]}%\", color='white')\n",
    "        ax.text((-min_valid_opening_count/2) + value_one[i] + value_two[i]/2, y=i+(bar_height/4), s=f\"{percent_value_two[i]}%\", color='white')\n",
    "    \n",
    "    ax.legend(ncols=len(category_name), bbox_to_anchor=(0,1), loc=\"lower center\", fontsize='small')\n",
    "    return fig, ax\n",
    "\n",
    "compare_plot(valid_opening, white_win, black_win, category_name)\n",
    "plt.show()\n"
   ]
  }
 ],
 "metadata": {
  "kernelspec": {
   "display_name": "Python 3",
   "language": "python",
   "name": "python3"
  },
  "language_info": {
   "codemirror_mode": {
    "name": "ipython",
    "version": 3
   },
   "file_extension": ".py",
   "mimetype": "text/x-python",
   "name": "python",
   "nbconvert_exporter": "python",
   "pygments_lexer": "ipython3",
   "version": "3.12.6"
  }
 },
 "nbformat": 4,
 "nbformat_minor": 5
}
